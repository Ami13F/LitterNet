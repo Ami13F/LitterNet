{
 "nbformat": 4,
 "nbformat_minor": 2,
 "metadata": {
  "language_info": {
   "name": "python",
   "codemirror_mode": {
    "name": "ipython",
    "version": 3
   },
   "version": "3.7.6-final"
  },
  "orig_nbformat": 2,
  "file_extension": ".py",
  "mimetype": "text/x-python",
  "name": "python",
  "npconvert_exporter": "python",
  "pygments_lexer": "ipython3",
  "version": 3,
  "kernelspec": {
   "name": "python37664bit21a1fbf91d04496299d5b1102d519e3f",
   "display_name": "Python 3.7.6 64-bit"
  }
 },
 "cells": [
  {
   "cell_type": "markdown",
   "metadata": {},
   "source": [
    "# Categories and super-categories"
   ]
  },
  {
   "cell_type": "code",
   "execution_count": 1,
   "metadata": {},
   "outputs": [
    {
     "name": "stdout",
     "output_type": "stream",
     "text": "loading annotations into memory...\nDone (t=0.19s)\ncreating index...\nindex created!\nSupercategory: 1/28 Current image: 1/43 augs: 12, image: batch_6/000024.JPG\nStart aug...\nEnd aug...\nSupercategory: 1/28 Current image: 2/43 augs: 12, image: batch_9/000008.jpg\nStart aug...\nEnd aug...\nSupercategory: 1/28 Current image: 3/43 augs: 12, image: batch_6/000022.JPG\nStart aug...\nEnd aug...\nSupercategory: 1/28 Current image: 4/43 augs: 12, image: batch_11/000059.jpg\nStart aug...\nEnd aug...\nSupercategory: 1/28 Current image: 5/43 augs: 12, image: batch_6/000017.JPG\nStart aug...\n"
    },
    {
     "ename": "KeyboardInterrupt",
     "evalue": "",
     "output_type": "error",
     "traceback": [
      "\u001b[1;31m---------------------------------------------------------------------------\u001b[0m",
      "\u001b[1;31mKeyboardInterrupt\u001b[0m                         Traceback (most recent call last)",
      "\u001b[1;32m<ipython-input-1-3079dc263c42>\u001b[0m in \u001b[0;36m<module>\u001b[1;34m\u001b[0m\n\u001b[0;32m     15\u001b[0m \u001b[1;31m# data.create_label_file(\"label.txt\")\u001b[0m\u001b[1;33m\u001b[0m\u001b[1;33m\u001b[0m\u001b[1;33m\u001b[0m\u001b[0m\n\u001b[0;32m     16\u001b[0m \u001b[1;33m\u001b[0m\u001b[0m\n\u001b[1;32m---> 17\u001b[1;33m \u001b[0mdata\u001b[0m\u001b[1;33m.\u001b[0m\u001b[0mgenerate_augmented_datas\u001b[0m\u001b[1;33m(\u001b[0m\u001b[1;33m)\u001b[0m\u001b[1;33m\u001b[0m\u001b[1;33m\u001b[0m\u001b[0m\n\u001b[0m\u001b[0;32m     18\u001b[0m \u001b[1;33m\u001b[0m\u001b[0m\n\u001b[0;32m     19\u001b[0m \u001b[1;31m# mask, _ = data.load_mask(1)\u001b[0m\u001b[1;33m\u001b[0m\u001b[1;33m\u001b[0m\u001b[1;33m\u001b[0m\u001b[0m\n",
      "\u001b[1;32mc:\\Users\\ameli\\Desktop\\FMI\\Licence\\ObjectDetectionTaco\\dataset.py\u001b[0m in \u001b[0;36mgenerate_augmented_datas\u001b[1;34m(self)\u001b[0m\n\u001b[0;32m    396\u001b[0m                                    masks=masks, ann_cats=ann_cats, nr_augmentations=init_augm)\n\u001b[0;32m    397\u001b[0m                 \u001b[1;31m# while remainder:\u001b[0m\u001b[1;33m\u001b[0m\u001b[1;33m\u001b[0m\u001b[1;33m\u001b[0m\u001b[0m\n\u001b[1;32m--> 398\u001b[1;33m                 \u001b[1;31m#     im_id = np.random(0, nr_super_cats)\u001b[0m\u001b[1;33m\u001b[0m\u001b[1;33m\u001b[0m\u001b[1;33m\u001b[0m\u001b[0m\n\u001b[0m\u001b[0;32m    399\u001b[0m                 \u001b[1;31m#     masks, ann_cats = self.load_masks(im_id)\u001b[0m\u001b[1;33m\u001b[0m\u001b[1;33m\u001b[0m\u001b[1;33m\u001b[0m\u001b[0m\n\u001b[0;32m    400\u001b[0m                 \u001b[1;31m#     image = self.load_image(im_id)\u001b[0m\u001b[1;33m\u001b[0m\u001b[1;33m\u001b[0m\u001b[1;33m\u001b[0m\u001b[0m\n",
      "\u001b[1;32mc:\\Users\\ameli\\Desktop\\FMI\\Licence\\ObjectDetectionTaco\\dataset.py\u001b[0m in \u001b[0;36maugment_image\u001b[1;34m(self, image, super_class, masks, ann_cats, nr_augmentations)\u001b[0m\n\u001b[0;32m    319\u001b[0m             \u001b[1;31m# TODO: remove hardcoded path initialize new folder in constructor\u001b[0m\u001b[1;33m\u001b[0m\u001b[1;33m\u001b[0m\u001b[1;33m\u001b[0m\u001b[0m\n\u001b[0;32m    320\u001b[0m             image_info, ann_info = self.get_coco_info(\n\u001b[1;32m--> 321\u001b[1;33m                 \"./data/test\", image_augmented, mask_augmented, ann_cats)\n\u001b[0m\u001b[0;32m    322\u001b[0m             \u001b[0mself\u001b[0m\u001b[1;33m.\u001b[0m\u001b[0mimgs\u001b[0m\u001b[1;33m.\u001b[0m\u001b[0mappend\u001b[0m\u001b[1;33m(\u001b[0m\u001b[0mimage_info\u001b[0m\u001b[1;33m)\u001b[0m\u001b[1;33m\u001b[0m\u001b[1;33m\u001b[0m\u001b[0m\n\u001b[0;32m    323\u001b[0m             \u001b[0mself\u001b[0m\u001b[1;33m.\u001b[0m\u001b[0manns\u001b[0m\u001b[1;33m.\u001b[0m\u001b[0mappend\u001b[0m\u001b[1;33m(\u001b[0m\u001b[0mann_info\u001b[0m\u001b[1;33m)\u001b[0m\u001b[1;33m\u001b[0m\u001b[1;33m\u001b[0m\u001b[0m\n",
      "\u001b[1;32mc:\\Users\\ameli\\Desktop\\FMI\\Licence\\ObjectDetectionTaco\\dataset.py\u001b[0m in \u001b[0;36mget_coco_info\u001b[1;34m(self, generated_dir, image, masks, ann_cats)\u001b[0m\n\u001b[0;32m    371\u001b[0m                     self.ann_id, self.img_id, ann_cats[i], masks[:, :, i], image.shape)\n\u001b[0;32m    372\u001b[0m                 \u001b[1;32mif\u001b[0m \u001b[0mann_info\u001b[0m \u001b[1;32mis\u001b[0m \u001b[1;32mnot\u001b[0m \u001b[1;32mNone\u001b[0m\u001b[1;33m:\u001b[0m\u001b[1;33m\u001b[0m\u001b[1;33m\u001b[0m\u001b[0m\n\u001b[1;32m--> 373\u001b[1;33m                     \u001b[0manns_info\u001b[0m\u001b[1;33m.\u001b[0m\u001b[0mappend\u001b[0m\u001b[1;33m(\u001b[0m\u001b[0mann_info\u001b[0m\u001b[1;33m)\u001b[0m\u001b[1;33m\u001b[0m\u001b[1;33m\u001b[0m\u001b[0m\n\u001b[0m\u001b[0;32m    374\u001b[0m                     \u001b[0mself\u001b[0m\u001b[1;33m.\u001b[0m\u001b[0mann_id\u001b[0m \u001b[1;33m+=\u001b[0m \u001b[1;36m1\u001b[0m\u001b[1;33m\u001b[0m\u001b[1;33m\u001b[0m\u001b[0m\n\u001b[0;32m    375\u001b[0m \u001b[1;33m\u001b[0m\u001b[0m\n",
      "\u001b[1;32mc:\\Users\\ameli\\Desktop\\FMI\\Licence\\ObjectDetectionTaco\\pycococreatortools.py\u001b[0m in \u001b[0;36mcreate_annotation_info\u001b[1;34m(annotation_id, image_id, category_info, binary_mask, image_size, is_crowd, tolerance, bbox)\u001b[0m\n\u001b[0;32m    107\u001b[0m     \u001b[1;32melse\u001b[0m\u001b[1;33m:\u001b[0m\u001b[1;33m\u001b[0m\u001b[1;33m\u001b[0m\u001b[0m\n\u001b[0;32m    108\u001b[0m         \u001b[0mis_crowd\u001b[0m \u001b[1;33m=\u001b[0m \u001b[1;36m0\u001b[0m\u001b[1;33m\u001b[0m\u001b[1;33m\u001b[0m\u001b[0m\n\u001b[1;32m--> 109\u001b[1;33m         \u001b[0msegmentation\u001b[0m \u001b[1;33m=\u001b[0m \u001b[0mbinary_mask_to_polygon\u001b[0m\u001b[1;33m(\u001b[0m\u001b[0mbinary_mask\u001b[0m\u001b[1;33m,\u001b[0m \u001b[0mtolerance\u001b[0m\u001b[1;33m)\u001b[0m\u001b[1;33m\u001b[0m\u001b[1;33m\u001b[0m\u001b[0m\n\u001b[0m\u001b[0;32m    110\u001b[0m         \u001b[1;32mif\u001b[0m \u001b[1;32mnot\u001b[0m \u001b[0msegmentation\u001b[0m\u001b[1;33m:\u001b[0m\u001b[1;33m\u001b[0m\u001b[1;33m\u001b[0m\u001b[0m\n\u001b[0;32m    111\u001b[0m             \u001b[1;32mreturn\u001b[0m \u001b[1;32mNone\u001b[0m\u001b[1;33m\u001b[0m\u001b[1;33m\u001b[0m\u001b[0m\n",
      "\u001b[1;32mc:\\Users\\ameli\\Desktop\\FMI\\Licence\\ObjectDetectionTaco\\pycococreatortools.py\u001b[0m in \u001b[0;36mbinary_mask_to_polygon\u001b[1;34m(binary_mask, tolerance)\u001b[0m\n\u001b[0;32m     50\u001b[0m     padded_binary_mask = np.pad(\n\u001b[0;32m     51\u001b[0m         binary_mask, pad_width=1, mode='constant', constant_values=0)\n\u001b[1;32m---> 52\u001b[1;33m     \u001b[0mcontours\u001b[0m \u001b[1;33m=\u001b[0m \u001b[0mmeasure\u001b[0m\u001b[1;33m.\u001b[0m\u001b[0mfind_contours\u001b[0m\u001b[1;33m(\u001b[0m\u001b[0mpadded_binary_mask\u001b[0m\u001b[1;33m,\u001b[0m \u001b[1;36m0.5\u001b[0m\u001b[1;33m)\u001b[0m\u001b[1;33m\u001b[0m\u001b[1;33m\u001b[0m\u001b[0m\n\u001b[0m\u001b[0;32m     53\u001b[0m     \u001b[0mcontours\u001b[0m \u001b[1;33m=\u001b[0m \u001b[0mnp\u001b[0m\u001b[1;33m.\u001b[0m\u001b[0msubtract\u001b[0m\u001b[1;33m(\u001b[0m\u001b[0mcontours\u001b[0m\u001b[1;33m,\u001b[0m \u001b[1;36m1\u001b[0m\u001b[1;33m)\u001b[0m\u001b[1;33m\u001b[0m\u001b[1;33m\u001b[0m\u001b[0m\n\u001b[0;32m     54\u001b[0m     \u001b[1;32mfor\u001b[0m \u001b[0mcontour\u001b[0m \u001b[1;32min\u001b[0m \u001b[0mcontours\u001b[0m\u001b[1;33m:\u001b[0m\u001b[1;33m\u001b[0m\u001b[1;33m\u001b[0m\u001b[0m\n",
      "\u001b[1;32m~\\Anaconda3\\envs\\ObjectDetection\\lib\\site-packages\\skimage\\measure\\_find_contours.py\u001b[0m in \u001b[0;36mfind_contours\u001b[1;34m(array, level, fully_connected, positive_orientation, mask)\u001b[0m\n\u001b[0;32m    133\u001b[0m                                                      \u001b[0mfully_connected\u001b[0m \u001b[1;33m==\u001b[0m \u001b[1;34m'high'\u001b[0m\u001b[1;33m,\u001b[0m\u001b[1;33m\u001b[0m\u001b[1;33m\u001b[0m\u001b[0m\n\u001b[0;32m    134\u001b[0m                                                      mask=mask)\n\u001b[1;32m--> 135\u001b[1;33m     \u001b[0mcontours\u001b[0m \u001b[1;33m=\u001b[0m \u001b[0m_assemble_contours\u001b[0m\u001b[1;33m(\u001b[0m\u001b[0m_take_2\u001b[0m\u001b[1;33m(\u001b[0m\u001b[0mpoint_list\u001b[0m\u001b[1;33m)\u001b[0m\u001b[1;33m)\u001b[0m\u001b[1;33m\u001b[0m\u001b[1;33m\u001b[0m\u001b[0m\n\u001b[0m\u001b[0;32m    136\u001b[0m     \u001b[1;32mif\u001b[0m \u001b[0mpositive_orientation\u001b[0m \u001b[1;33m==\u001b[0m \u001b[1;34m'high'\u001b[0m\u001b[1;33m:\u001b[0m\u001b[1;33m\u001b[0m\u001b[1;33m\u001b[0m\u001b[0m\n\u001b[0;32m    137\u001b[0m         \u001b[0mcontours\u001b[0m \u001b[1;33m=\u001b[0m \u001b[1;33m[\u001b[0m\u001b[0mc\u001b[0m\u001b[1;33m[\u001b[0m\u001b[1;33m:\u001b[0m\u001b[1;33m:\u001b[0m\u001b[1;33m-\u001b[0m\u001b[1;36m1\u001b[0m\u001b[1;33m]\u001b[0m \u001b[1;32mfor\u001b[0m \u001b[0mc\u001b[0m \u001b[1;32min\u001b[0m \u001b[0mcontours\u001b[0m\u001b[1;33m]\u001b[0m\u001b[1;33m\u001b[0m\u001b[1;33m\u001b[0m\u001b[0m\n",
      "\u001b[1;31mKeyboardInterrupt\u001b[0m: "
     ]
    }
   ],
   "source": [
    "%matplotlib inline\n",
    "from dataset import Dataset\n",
    "import matplotlib.pyplot as plt   \n",
    "import numpy as np\n",
    "\n",
    "root_path = \".\"\n",
    "\n",
    "data = Dataset(root_path)\n",
    "\n",
    "\n",
    "# print(categories)\n",
    "# data.cat_to_super_cat()\n",
    "# data.images_file_path()[:10]\n",
    "# data.split_data_train_and_test(\"/train.txt\", \"/test.txt\")create_label_file\n",
    "# data.create_label_file(\"label.txt\")\n",
    "\n",
    "data.generate_augmented_datas()\n",
    "\n",
    "# mask, _ = data.load_mask(1)\n",
    "# mask_total = np.sum(mask, axis=2)\n",
    "# plt.imshow(mask_total)\n",
    "# plt.show()\n",
    "# import cv2 as cv\n",
    "# image = cv.imread(root_path + \"/data/\"+ data.ids_file[1])\n",
    "# plt.imshow(image)\n",
    "# plt.show()\n",
    "# plt.imshow(data.apply_mask(image, mask))\n",
    "# plt.show()\n",
    "\n",
    "# data.generate_augmented_datas(image, mask)\n",
    "# im, mask = data.augmented_images(image, mask, 1)\n",
    "# plt.imshow(im)\n",
    "# plt.show()\n",
    "# plt.imshow(mask)\n",
    "# plt.show()"
   ]
  },
  {
   "cell_type": "code",
   "execution_count": 1,
   "metadata": {},
   "outputs": [
    {
     "name": "stdout",
     "output_type": "stream",
     "text": "Num categories: 60\n{'supercategory': 'Aluminium foil', 'id': 0, 'name': 'Aluminium foil'}\nNum images: 1500\n{'id': 0, 'width': 1537, 'height': 2049, 'file_name': 'batch_1/000006.jpg', 'license': None, 'flickr_url': 'https://farm66.staticflickr.com/65535/33978196618_e30a59e0a8_o.png', 'coco_url': None, 'date_captured': None, 'flickr_640_url': 'https://farm66.staticflickr.com/65535/33978196618_632623b4fc_z.jpg'}\nNum anns: 4784\n[{'id': 1, 'image_id': 0, 'category_id': 6, 'segmentation': [[561.0, 1238.0, 568.0, 1201.0, 567.0, 1175.0, 549.0, 1127.0, 538.0, 1089.0, 519.0, 1043.0, 517.0, 1005.0, 523.0, 964.0, 529.0, 945.0, 520.0, 896.0, 525.0, 862.0, 536.0, 821.0, 554.0, 769.0, 577.0, 727.0, 595.0, 678.0, 596.0, 585.0, 588.0, 346.0, 581.0, 328.0, 569.0, 306.0, 570.0, 276.0, 576.0, 224.0, 560.0, 205.0, 564.0, 170.0, 578.0, 154.0, 608.0, 136.0, 649.0, 127.0, 688.0, 127.0, 726.0, 129.0, 759.0, 141.0, 784.0, 153.0, 792.0, 177.0, 788.0, 193.0, 782.0, 209.0, 792.0, 238.0, 802.0, 271.0, 802.0, 294.0, 791.0, 319.0, 789.0, 360.0, 794.0, 395.0, 810.0, 529.0, 819.0, 609.0, 841.0, 675.0, 882.0, 728.0, 916.0, 781.0, 928.0, 802.0, 938.0, 834.0, 940.0, 856.0, 939.0, 873.0, 938.0, 884.0, 944.0, 901.0, 951.0, 917.0, 956.0, 942.0, 960.0, 972.0, 964.0, 1013.0, 959.0, 1036.0, 952.0, 1081.0, 952.0, 1106.0, 934.0, 1163.0, 935.0, 1174.0, 949.0, 1209.0, 954.0, 1235.0, 952.0, 1273.0, 953.0, 1296.0, 946.0, 1320.0, 930.0, 1347.0, 914.0, 1367.0, 898.0, 1388.0, 855.0, 1419.0, 821.0, 1437.0, 769.0, 1449.0, 728.0, 1448.0, 687.0, 1439.0, 645.0, 1419.0, 618.0, 1397.0, 582.0, 1348.0, 572.0, 1314.0, 564.0, 1279.0, 561.0, 1253.0, 561.0, 1238.0]], 'area': 403954.0, 'bbox': [517.0, 127.0, 447.0, 1322.0], 'iscrowd': 0}, {'id': 2, 'image_id': 1, 'category_id': 18, 'segmentation': [[928.0, 1876.0, 938.0, 1856.0, 968.0, 1826.0, 990.0, 1808.0, 998.0, 1790.0, 1069.0, 1727.0, 1096.0, 1702.0, 1159.0, 1644.0, 1212.0, 1588.0, 1258.0, 1540.0, 1314.0, 1482.0, 1357.0, 1444.0, 1392.0, 1416.0, 1409.0, 1393.0, 1430.0, 1369.0, 1415.0, 1347.0, 1130.0, 1087.0, 780.0, 763.0, 528.0, 533.0, 479.0, 486.0, 466.0, 466.0, 448.0, 457.0, 427.0, 468.0, 387.0, 502.0, 321.0, 554.0, 244.0, 608.0, 118.0, 693.0, 37.0, 750.0, 3.0, 780.0, 1.0, 995.0, 28.0, 1032.0, 104.0, 1119.0, 403.0, 1471.0, 666.0, 1805.0, 763.0, 1954.0, 782.0, 1945.0, 796.0, 1970.0, 803.0, 1976.0, 818.0, 1976.0, 836.0, 1956.0, 852.0, 1954.0, 860.0, 1937.0, 873.0, 1931.0, 885.0, 1908.0, 898.0, 1896.0, 928.0, 1876.0]], 'area': 1071259.5, 'bbox': [1.0, 457.0, 1429.0, 1519.0], 'iscrowd': 0}]\n"
    }
   ],
   "source": [
    "import pycococreatortools as creator\n",
    "import numpy as np\n",
    "import json\n",
    "\n",
    "root_path = \".\"\n",
    "dataset_path = root_path + \"/data\"\n",
    "ann_path = dataset_path + '/annotations.json'\n",
    "\n",
    "dataset = {}\n",
    "with open(ann_path, 'r') as f:\n",
    "    dataset = json.loads(f.read())\n",
    "info = dataset['info'] # leave as is\n",
    "categories = dataset['categories'] # leave as is\n",
    "print(\"Num categories: {}\".format(len(categories)))\n",
    "print(categories[0])\n",
    "\n",
    "images = dataset['images'] # append new images\n",
    "print(\"Num images: {}\".format(len(images)))\n",
    "print(images[0])\n",
    "annotations = dataset['annotations'] # add annotation for each mask in the image\n",
    "print(\"Num anns: {}\".format(len(annotations)))\n",
    "print(annotations[0:2])\n",
    "\n",
    "\n",
    "# print(\"Images\")\n",
    "# print(type(images))\n",
    "# print(type(images[0]))\n",
    "# print(images[0])\n",
    "\n",
    "# print(\"ANNS\")\n",
    "# print(type(annotations))\n",
    "# print(type(annotations[0]))\n",
    "# print(annotations[0])"
   ]
  },
  {
   "cell_type": "code",
   "execution_count": null,
   "metadata": {},
   "outputs": [],
   "source": []
  }
 ]
}