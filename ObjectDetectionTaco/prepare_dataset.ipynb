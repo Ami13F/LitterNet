{
 "nbformat": 4,
 "nbformat_minor": 2,
 "metadata": {
  "language_info": {
   "name": "python",
   "codemirror_mode": {
    "name": "ipython",
    "version": 3
   },
   "version": "3.7.6-final"
  },
  "orig_nbformat": 2,
  "file_extension": ".py",
  "mimetype": "text/x-python",
  "name": "python",
  "npconvert_exporter": "python",
  "pygments_lexer": "ipython3",
  "version": 3,
  "kernelspec": {
   "name": "python37664bit21a1fbf91d04496299d5b1102d519e3f",
   "display_name": "Python 3.7.6 64-bit"
  }
 },
 "cells": [
  {
   "cell_type": "markdown",
   "metadata": {},
   "source": [
    "# Categories and super-categories"
   ]
  },
  {
   "cell_type": "code",
   "execution_count": null,
   "metadata": {},
   "outputs": [
    {
     "ename": "Error",
     "evalue": "Jupyter cannot be started. Error attempting to locate jupyter: ",
     "output_type": "error",
     "traceback": [
      "Error: Jupyter cannot be started. Error attempting to locate jupyter:",
      "at A.startServer (c:\\Users\\ameli\\.vscode\\extensions\\ms-python.python-2020.2.64397\\out\\client\\extension.js:1:786120)",
      "at async A.ensureServerAndNotebookImpl (c:\\Users\\ameli\\.vscode\\extensions\\ms-python.python-2020.2.64397\\out\\client\\extension.js:1:785575)",
      "at async A.ensureServerAndNotebook (c:\\Users\\ameli\\.vscode\\extensions\\ms-python.python-2020.2.64397\\out\\client\\extension.js:1:785376)",
      "at async A.submitCode (c:\\Users\\ameli\\.vscode\\extensions\\ms-python.python-2020.2.64397\\out\\client\\extension.js:1:782328)",
      "at async A.reexecuteCell (c:\\Users\\ameli\\.vscode\\extensions\\ms-python.python-2020.2.64397\\out\\client\\extension.js:75:879318)"
     ]
    }
   ],
   "source": [
    "%matplotlib inline\n",
    "from dataset import Dataset\n",
    "import matplotlib.pyplot as plt   \n",
    "import numpy as np\n",
    "\n",
    "root_path = \".\"\n",
    "\n",
    "data = Dataset(root_path)\n",
    "\n",
    "\n",
    "# print(categories)\n",
    "# data.cat_to_super_cat()\n",
    "# data.images_file_path()[:10]\n",
    "# data.split_data_train_and_test(\"/train.txt\", \"/test.txt\")create_label_file\n",
    "# data.create_label_file(\"label.txt\")\n",
    "\n",
    "# data.generate_augmented_datas()\n",
    "\n",
    "# mask, _ = data.load_mask(1)\n",
    "# mask_total = np.sum(mask, axis=2)\n",
    "# plt.imshow(mask_total)\n",
    "# plt.show()\n",
    "# import cv2 as cv\n",
    "# image = cv.imread(root_path + \"/data/\"+ data.ids_file[1])\n",
    "# plt.imshow(image)\n",
    "# plt.show()\n",
    "# plt.imshow(data.apply_mask(image, mask))\n",
    "# plt.show()\n",
    "\n",
    "# data.generate_augmented_datas(image, mask)\n",
    "# im, mask = data.augmented_images(image, mask, 1)\n",
    "# plt.imshow(im)\n",
    "# plt.show()\n",
    "# plt.imshow(mask)\n",
    "# plt.show()"
   ]
  },
  {
   "cell_type": "code",
   "execution_count": 1,
   "metadata": {},
   "outputs": [
    {
     "name": "stdout",
     "output_type": "stream",
     "text": "Num categories: 60\n{'supercategory': 'Aluminium foil', 'id': 0, 'name': 'Aluminium foil'}\nNum images: 1500\n{'id': 0, 'width': 1537, 'height': 2049, 'file_name': 'batch_1/000006.jpg', 'license': None, 'flickr_url': 'https://farm66.staticflickr.com/65535/33978196618_e30a59e0a8_o.png', 'coco_url': None, 'date_captured': None, 'flickr_640_url': 'https://farm66.staticflickr.com/65535/33978196618_632623b4fc_z.jpg'}\nNum anns: 4784\n[{'id': 1, 'image_id': 0, 'category_id': 6, 'segmentation': [[561.0, 1238.0, 568.0, 1201.0, 567.0, 1175.0, 549.0, 1127.0, 538.0, 1089.0, 519.0, 1043.0, 517.0, 1005.0, 523.0, 964.0, 529.0, 945.0, 520.0, 896.0, 525.0, 862.0, 536.0, 821.0, 554.0, 769.0, 577.0, 727.0, 595.0, 678.0, 596.0, 585.0, 588.0, 346.0, 581.0, 328.0, 569.0, 306.0, 570.0, 276.0, 576.0, 224.0, 560.0, 205.0, 564.0, 170.0, 578.0, 154.0, 608.0, 136.0, 649.0, 127.0, 688.0, 127.0, 726.0, 129.0, 759.0, 141.0, 784.0, 153.0, 792.0, 177.0, 788.0, 193.0, 782.0, 209.0, 792.0, 238.0, 802.0, 271.0, 802.0, 294.0, 791.0, 319.0, 789.0, 360.0, 794.0, 395.0, 810.0, 529.0, 819.0, 609.0, 841.0, 675.0, 882.0, 728.0, 916.0, 781.0, 928.0, 802.0, 938.0, 834.0, 940.0, 856.0, 939.0, 873.0, 938.0, 884.0, 944.0, 901.0, 951.0, 917.0, 956.0, 942.0, 960.0, 972.0, 964.0, 1013.0, 959.0, 1036.0, 952.0, 1081.0, 952.0, 1106.0, 934.0, 1163.0, 935.0, 1174.0, 949.0, 1209.0, 954.0, 1235.0, 952.0, 1273.0, 953.0, 1296.0, 946.0, 1320.0, 930.0, 1347.0, 914.0, 1367.0, 898.0, 1388.0, 855.0, 1419.0, 821.0, 1437.0, 769.0, 1449.0, 728.0, 1448.0, 687.0, 1439.0, 645.0, 1419.0, 618.0, 1397.0, 582.0, 1348.0, 572.0, 1314.0, 564.0, 1279.0, 561.0, 1253.0, 561.0, 1238.0]], 'area': 403954.0, 'bbox': [517.0, 127.0, 447.0, 1322.0], 'iscrowd': 0}, {'id': 2, 'image_id': 1, 'category_id': 18, 'segmentation': [[928.0, 1876.0, 938.0, 1856.0, 968.0, 1826.0, 990.0, 1808.0, 998.0, 1790.0, 1069.0, 1727.0, 1096.0, 1702.0, 1159.0, 1644.0, 1212.0, 1588.0, 1258.0, 1540.0, 1314.0, 1482.0, 1357.0, 1444.0, 1392.0, 1416.0, 1409.0, 1393.0, 1430.0, 1369.0, 1415.0, 1347.0, 1130.0, 1087.0, 780.0, 763.0, 528.0, 533.0, 479.0, 486.0, 466.0, 466.0, 448.0, 457.0, 427.0, 468.0, 387.0, 502.0, 321.0, 554.0, 244.0, 608.0, 118.0, 693.0, 37.0, 750.0, 3.0, 780.0, 1.0, 995.0, 28.0, 1032.0, 104.0, 1119.0, 403.0, 1471.0, 666.0, 1805.0, 763.0, 1954.0, 782.0, 1945.0, 796.0, 1970.0, 803.0, 1976.0, 818.0, 1976.0, 836.0, 1956.0, 852.0, 1954.0, 860.0, 1937.0, 873.0, 1931.0, 885.0, 1908.0, 898.0, 1896.0, 928.0, 1876.0]], 'area': 1071259.5, 'bbox': [1.0, 457.0, 1429.0, 1519.0], 'iscrowd': 0}]\n"
    }
   ],
   "source": [
    "import pycococreatortools as creator\n",
    "import numpy as np\n",
    "import json\n",
    "\n",
    "root_path = \".\"\n",
    "dataset_path = root_path + \"/data\"\n",
    "ann_path = dataset_path + '/annotations.json'\n",
    "\n",
    "dataset = {}\n",
    "with open(ann_path, 'r') as f:\n",
    "    dataset = json.loads(f.read())\n",
    "info = dataset['info'] # leave as is\n",
    "categories = dataset['categories'] # leave as is\n",
    "print(\"Num categories: {}\".format(len(categories)))\n",
    "print(categories[0])\n",
    "\n",
    "images = dataset['images'] # append new images\n",
    "print(\"Num images: {}\".format(len(images)))\n",
    "print(images[0])\n",
    "annotations = dataset['annotations'] # add annotation for each mask in the image\n",
    "print(\"Num anns: {}\".format(len(annotations)))\n",
    "print(annotations[0:2])\n",
    "\n",
    "\n",
    "# print(\"Images\")\n",
    "# print(type(images))\n",
    "# print(type(images[0]))\n",
    "# print(images[0])\n",
    "\n",
    "# print(\"ANNS\")\n",
    "# print(type(annotations))\n",
    "# print(type(annotations[0]))\n",
    "# print(annotations[0])"
   ]
  },
  {
   "cell_type": "code",
   "execution_count": 4,
   "metadata": {},
   "outputs": [],
   "source": [
    "import json\n",
    "\n",
    "root_path = \".\"\n",
    "dataset_path = root_path + \"/data\"\n",
    "ann_path = dataset_path + '/ann_aug.json'\n",
    "\n",
    "dataset = {}\n",
    "with open(ann_path, 'r') as f:\n",
    "    dataset = json.loads(f.read())\n",
    "\n",
    "# my_ann = []\n",
    "anns = dataset['annotations']\n",
    "for el in anns:\n",
    "    if type(el) is list:\n",
    "        # my_ann.extend(el)\n",
    "        print(\"Have list\")\n",
    "    # else:\n",
    "        # my_ann.append(el)\n",
    "\n",
    "# dataset['annotations'] = my_ann\n",
    "# with open(ann_path, 'w') as f:\n",
    "#     dataset = json.dump(dataset, f, ensure_ascii=False)\n"
   ]
  },
  {
   "cell_type": "code",
   "execution_count": null,
   "metadata": {},
   "outputs": [],
   "source": []
  }
 ]
}