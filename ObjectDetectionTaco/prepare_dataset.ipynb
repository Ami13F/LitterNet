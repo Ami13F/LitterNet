{
 "nbformat": 4,
 "nbformat_minor": 2,
 "metadata": {
  "language_info": {
   "name": "python",
   "codemirror_mode": {
    "name": "ipython",
    "version": 3
   },
   "version": "3.7.6-final"
  },
  "orig_nbformat": 2,
  "file_extension": ".py",
  "mimetype": "text/x-python",
  "name": "python",
  "npconvert_exporter": "python",
  "pygments_lexer": "ipython3",
  "version": 3,
  "kernelspec": {
   "name": "python37664bit21a1fbf91d04496299d5b1102d519e3f",
   "display_name": "Python 3.7.6 64-bit"
  }
 },
 "cells": [
  {
   "cell_type": "markdown",
   "metadata": {},
   "source": [
    "# Categories and super-categories"
   ]
  },
  {
   "cell_type": "code",
   "execution_count": 3,
   "metadata": {},
   "outputs": [
    {
     "name": "stdout",
     "output_type": "stream",
     "text": "loading annotations into memory...\nDone (t=0.20s)\ncreating index...\nindex created!\nLog file exists, resuming...\nLast category 11\nImage id:  6529\nAnn id:  23258\nSupercategory: 12/28 Current image: 1/74 augs: 8, image: batch_9/000008.jpg\nFinished supercategory 11, saving...\nProgress saved.\n"
    }
   ],
   "source": [
    "%matplotlib inline\n",
    "from dataset import Dataset\n",
    "import matplotlib.pyplot as plt   \n",
    "import numpy as np\n",
    "\n",
    "root_path = \".\"\n",
    "\n",
    "data = Dataset(root_path)\n",
    "\n",
    "\n",
    "# print(categories)\n",
    "# data.cat_to_super_cat()\n",
    "# data.images_file_path()[:10]\n",
    "# data.split_data_train_and_test(\"/train.txt\", \"/test.txt\")create_label_file\n",
    "# data.create_label_file(\"label.txt\")\n",
    "\n",
    "data.generate_augmented_datas()\n",
    "\n",
    "# mask, _ = data.load_mask(1)\n",
    "# mask_total = np.sum(mask, axis=2)\n",
    "# plt.imshow(mask_total)\n",
    "# plt.show()\n",
    "# import cv2 as cv\n",
    "# image = cv.imread(root_path + \"/data/\"+ data.ids_file[1])\n",
    "# plt.imshow(image)\n",
    "# plt.show()\n",
    "# plt.imshow(data.apply_mask(image, mask))\n",
    "# plt.show()\n",
    "\n",
    "# data.generate_augmented_datas(image, mask)\n",
    "# im, mask = data.augmented_images(image, mask, 1)\n",
    "# plt.imshow(im)\n",
    "# plt.show()\n",
    "# plt.imshow(mask)\n",
    "# plt.show()"
   ]
  },
  {
   "cell_type": "code",
   "execution_count": 4,
   "metadata": {},
   "outputs": [],
   "source": [
    "import json\n",
    "\n",
    "root_path = \".\"\n",
    "dataset_path = root_path + \"/data\"\n",
    "ann_path = dataset_path + '/ann_aug.json'\n",
    "\n",
    "dataset = {}\n",
    "with open(ann_path, 'r') as f:\n",
    "    dataset = json.loads(f.read())\n",
    "\n",
    "my_ann = []\n",
    "anns = dataset['annotations']\n",
    "for el in anns:\n",
    "    if type(el) is list:\n",
    "        my_ann.extend(el)\n",
    "    else:\n",
    "        my_ann.append(el)\n",
    "\n",
    "dataset['annotations'] = my_ann\n",
    "with open(ann_path, 'w') as f:\n",
    "    dataset = json.dump(dataset, f, ensure_ascii=False)"
   ]
  }
 ]
}